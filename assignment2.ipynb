{
 "cells": [
  {
   "cell_type": "markdown",
   "id": "84d7abf8-e2e1-4dfc-947f-239534139d63",
   "metadata": {},
   "source": [
    "Discuss string slicing and provide examples"
   ]
  },
  {
   "cell_type": "code",
   "execution_count": 2,
   "id": "b802fcb9-b90c-4801-9ada-077599f00f54",
   "metadata": {},
   "outputs": [
    {
     "data": {
      "text/plain": [
       "'p'"
      ]
     },
     "execution_count": 2,
     "metadata": {},
     "output_type": "execute_result"
    }
   ],
   "source": [
    "'''string slicimg simply means accessing the elements in the string.\n",
    "in simple words we can also say that slicing simply means extracting'''\n",
    "#examples\n",
    "a='pwskills' #-- here a = pwskills\n",
    "a[0]  #-- to access the ist word p the indexing starts from the 0 so the following step is used to access the ist word"
   ]
  },
  {
   "cell_type": "code",
   "execution_count": 4,
   "id": "c8539617-fdd7-4043-822a-1e526de27220",
   "metadata": {},
   "outputs": [
    {
     "data": {
      "text/plain": [
       "'data-analyst'"
      ]
     },
     "execution_count": 4,
     "metadata": {},
     "output_type": "execute_result"
    }
   ],
   "source": [
    "#example 2\n",
    "b='i am a future data-analyst'\n",
    "'''above indexing starts from 0 and thye space also gets the index if we want to extract or access\n",
    "the data-analyst the index will be [14:]'''\n",
    "b[14:]"
   ]
  },
  {
   "cell_type": "code",
   "execution_count": 5,
   "id": "082dadec-8f5c-4caf-8bac-609f7b88d42b",
   "metadata": {},
   "outputs": [
    {
     "data": {
      "text/plain": [
       "'i am a future data-analyst'"
      ]
     },
     "execution_count": 5,
     "metadata": {},
     "output_type": "execute_result"
    }
   ],
   "source": [
    "b"
   ]
  },
  {
   "cell_type": "code",
   "execution_count": 6,
   "id": "dd260ffd-832a-4a60-8490-754b5a8b83fa",
   "metadata": {},
   "outputs": [
    {
     "data": {
      "text/plain": [
       "'i am a future data-analys'"
      ]
     },
     "execution_count": 6,
     "metadata": {},
     "output_type": "execute_result"
    }
   ],
   "source": [
    "''' another ways of slicing are [:-1] it means start from ist index  till last one'''\n",
    "b[:-1]"
   ]
  },
  {
   "cell_type": "code",
   "execution_count": 7,
   "id": "914145b6-1a84-4c0e-814e-de6cc2411336",
   "metadata": {},
   "outputs": [
    {
     "data": {
      "text/plain": [
       "'ia  uuedt-nls'"
      ]
     },
     "execution_count": 7,
     "metadata": {},
     "output_type": "execute_result"
    }
   ],
   "source": [
    "'''another way is [::2] it means start from one till end but here the step is 2'''\n",
    "b[::2]"
   ]
  },
  {
   "cell_type": "code",
   "execution_count": 9,
   "id": "dd795377-3184-4b73-9969-e41f790a0f4e",
   "metadata": {},
   "outputs": [
    {
     "data": {
      "text/plain": [
       "'tsylana-atad erutuf a ma i'"
      ]
     },
     "execution_count": 9,
     "metadata": {},
     "output_type": "execute_result"
    }
   ],
   "source": [
    "'''another way is to reverse a string[::-1]'''\n",
    "b[::-1]"
   ]
  },
  {
   "cell_type": "code",
   "execution_count": 10,
   "id": "030ca558-6474-49ea-8cc7-e08fca674336",
   "metadata": {},
   "outputs": [
    {
     "data": {
      "text/plain": [
       "'yst'"
      ]
     },
     "execution_count": 10,
     "metadata": {},
     "output_type": "execute_result"
    }
   ],
   "source": [
    "'''another way is to accss only last three elements[-3:]'''\n",
    "b[-3:]"
   ]
  },
  {
   "cell_type": "markdown",
   "id": "b08c4b92-eab1-4417-b362-6001e7f55093",
   "metadata": {},
   "source": [
    "Explain the key features of lists in Python"
   ]
  },
  {
   "cell_type": "code",
   "execution_count": 12,
   "id": "f2bb2cf7-8993-4eb6-94d1-0f3a30e1ee05",
   "metadata": {},
   "outputs": [
    {
     "data": {
      "text/plain": [
       "' 1: lists are ordered collection of elements\\n2: lists are mutable\\n3: lists can be accessed through indexes'"
      ]
     },
     "execution_count": 12,
     "metadata": {},
     "output_type": "execute_result"
    }
   ],
   "source": [
    "''' 1: lists are ordered collection of elements\n",
    "2: lists are mutable\n",
    "3: lists can be accessed through indexes'''"
   ]
  },
  {
   "cell_type": "markdown",
   "id": "ac8dbe1b-8266-40e1-a5d9-81bb51231c6c",
   "metadata": {},
   "source": []
  },
  {
   "cell_type": "markdown",
   "id": "d6d2eb9f-b70e-45e4-a949-4c15149ef2ba",
   "metadata": {},
   "source": [
    "Describe how to access modify and delete elements in a list with examples."
   ]
  },
  {
   "cell_type": "code",
   "execution_count": 13,
   "id": "420cfc79-25d4-47a8-8c98-d9598733e8d5",
   "metadata": {},
   "outputs": [
    {
     "data": {
      "text/plain": [
       "1"
      ]
     },
     "execution_count": 13,
     "metadata": {},
     "output_type": "execute_result"
    }
   ],
   "source": [
    "\n",
    "'''to access a list we use the concept of slicing'''\n",
    "w=[1,2,3,4,'kamran','pwskills',3.5j,True]\n",
    "w[0]"
   ]
  },
  {
   "cell_type": "code",
   "execution_count": 14,
   "id": "d1a95c35-3573-49b9-ae1f-6dc6a33bc4bb",
   "metadata": {},
   "outputs": [
    {
     "data": {
      "text/plain": [
       "'pwskills'"
      ]
     },
     "execution_count": 14,
     "metadata": {},
     "output_type": "execute_result"
    }
   ],
   "source": [
    "#to acess the pwskills we will use the index 5\n",
    "w[5]"
   ]
  },
  {
   "cell_type": "code",
   "execution_count": 15,
   "id": "a85ec7a4-2d43-4f6a-8175-90e5b14fa45e",
   "metadata": {},
   "outputs": [
    {
     "data": {
      "text/plain": [
       "2"
      ]
     },
     "execution_count": 15,
     "metadata": {},
     "output_type": "execute_result"
    }
   ],
   "source": [
    "'''also the another way of accessing elements if their is list in list'''\n",
    "e=[[1,2,3],[6,7,8]]\n",
    "'''here the starting indexes will be o and 1 and in inner it will start from o,1,2 for example bellow:'''\n",
    "e[0]\n",
    "e[0][1]"
   ]
  },
  {
   "cell_type": "code",
   "execution_count": 17,
   "id": "63cc8fd1-f56a-484a-9252-c9baa77ccc21",
   "metadata": {},
   "outputs": [
    {
     "data": {
      "text/plain": [
       "'icecream'"
      ]
     },
     "execution_count": 17,
     "metadata": {},
     "output_type": "execute_result"
    }
   ],
   "source": [
    "'''to modify the elements in list we use the concept of slicing and assignment operator'''\n",
    "lis=['mango','apple','icecream']# suppose it is the shopping list but suddenly the mom calls and says i dont need ice-cream instead bring brinjal\n",
    "lis[2]# ist we will access the element\n"
   ]
  },
  {
   "cell_type": "code",
   "execution_count": 18,
   "id": "35e70f02-d439-4896-aea4-36698c92bf9d",
   "metadata": {},
   "outputs": [],
   "source": [
    "lis[2]='brinjal'# now we will assign the new value / modify"
   ]
  },
  {
   "cell_type": "code",
   "execution_count": 19,
   "id": "bb0fc707-46f1-41a7-9cee-877dee5cdd8e",
   "metadata": {},
   "outputs": [
    {
     "data": {
      "text/plain": [
       "['mango', 'apple', 'brinjal']"
      ]
     },
     "execution_count": 19,
     "metadata": {},
     "output_type": "execute_result"
    }
   ],
   "source": [
    "lis"
   ]
  },
  {
   "cell_type": "code",
   "execution_count": 21,
   "id": "f00712ae-2c85-476a-9a9f-17876d775b93",
   "metadata": {},
   "outputs": [],
   "source": [
    "'''deleting elements  in lists we use two concepts ist del and another clear\n",
    "del deletes the whole list\n",
    ".clear clears the elements it will make list empty'''\n",
    "t=[1,2,3,4]\n",
    "del t"
   ]
  },
  {
   "cell_type": "code",
   "execution_count": 22,
   "id": "9acd3031-2979-4b4b-b421-851f20ed0ee2",
   "metadata": {},
   "outputs": [
    {
     "ename": "NameError",
     "evalue": "name 't' is not defined",
     "output_type": "error",
     "traceback": [
      "\u001b[0;31m---------------------------------------------------------------------------\u001b[0m",
      "\u001b[0;31mNameError\u001b[0m                                 Traceback (most recent call last)",
      "Cell \u001b[0;32mIn[22], line 1\u001b[0m\n\u001b[0;32m----> 1\u001b[0m \u001b[43mt\u001b[49m\n",
      "\u001b[0;31mNameError\u001b[0m: name 't' is not defined"
     ]
    }
   ],
   "source": [
    "t"
   ]
  },
  {
   "cell_type": "code",
   "execution_count": 23,
   "id": "7967b2b8-26f6-4423-866e-d9df1a8e337d",
   "metadata": {},
   "outputs": [],
   "source": [
    "r=[4,5,6,7]\n",
    "r.clear()"
   ]
  },
  {
   "cell_type": "code",
   "execution_count": 24,
   "id": "c227ef33-ae05-4e82-9307-6544840f92cd",
   "metadata": {},
   "outputs": [
    {
     "data": {
      "text/plain": [
       "[]"
      ]
     },
     "execution_count": 24,
     "metadata": {},
     "output_type": "execute_result"
    }
   ],
   "source": [
    "r"
   ]
  },
  {
   "cell_type": "code",
   "execution_count": null,
   "id": "8d7d9980-2dc0-476e-b386-5357736a516e",
   "metadata": {},
   "outputs": [],
   "source": []
  },
  {
   "cell_type": "code",
   "execution_count": null,
   "id": "9480268f-81a6-4e8e-80a6-c00f373df392",
   "metadata": {},
   "outputs": [],
   "source": []
  },
  {
   "cell_type": "markdown",
   "id": "c3281965-87a1-49fc-b2c1-e3714fcd8b34",
   "metadata": {},
   "source": [
    "Compare and contrast tuples and lists with examples"
   ]
  },
  {
   "cell_type": "code",
   "execution_count": 25,
   "id": "42639652-b7e9-4b8a-ac88-3be7f199288b",
   "metadata": {},
   "outputs": [
    {
     "data": {
      "text/plain": [
       "[1, 4, 3]"
      ]
     },
     "execution_count": 25,
     "metadata": {},
     "output_type": "execute_result"
    }
   ],
   "source": [
    "#list \n",
    "#list is mutable\n",
    "a=[1,2,3]\n",
    "a[1]=4\n",
    "a"
   ]
  },
  {
   "cell_type": "code",
   "execution_count": 27,
   "id": "b0935c2e-4553-4e19-8ad7-c071c559273a",
   "metadata": {},
   "outputs": [
    {
     "ename": "TypeError",
     "evalue": "'tuple' object does not support item assignment",
     "output_type": "error",
     "traceback": [
      "\u001b[0;31m---------------------------------------------------------------------------\u001b[0m",
      "\u001b[0;31mTypeError\u001b[0m                                 Traceback (most recent call last)",
      "Cell \u001b[0;32mIn[27], line 3\u001b[0m\n\u001b[1;32m      1\u001b[0m \u001b[38;5;66;03m#tuples are immutable\u001b[39;00m\n\u001b[1;32m      2\u001b[0m a\u001b[38;5;241m=\u001b[39m(\u001b[38;5;241m1\u001b[39m,\u001b[38;5;241m2\u001b[39m,\u001b[38;5;241m3\u001b[39m)\n\u001b[0;32m----> 3\u001b[0m \u001b[43ma\u001b[49m\u001b[43m[\u001b[49m\u001b[38;5;241;43m0\u001b[39;49m\u001b[43m]\u001b[49m\u001b[38;5;241m=\u001b[39m\u001b[38;5;241m2\u001b[39m\n",
      "\u001b[0;31mTypeError\u001b[0m: 'tuple' object does not support item assignment"
     ]
    }
   ],
   "source": [
    "#tuples are immutable\n",
    "a=(1,2,3)\n",
    "a[0]=2"
   ]
  },
  {
   "cell_type": "code",
   "execution_count": 28,
   "id": "73281743-9c61-4e94-b90a-0edc3933830c",
   "metadata": {},
   "outputs": [],
   "source": [
    "#both list and tuple store haterogenous data\n",
    "c=[1,2,3,'ajay-sir' ,True,4+6j]\n",
    "d=(1,2,3,'ajay-sir',True,6+7j)"
   ]
  },
  {
   "cell_type": "code",
   "execution_count": 29,
   "id": "124b384a-8cdd-47ba-820d-921fb6632cc1",
   "metadata": {},
   "outputs": [
    {
     "data": {
      "text/plain": [
       "[1, 2, 3, 'ajay-sir', True, (4+6j)]"
      ]
     },
     "execution_count": 29,
     "metadata": {},
     "output_type": "execute_result"
    }
   ],
   "source": [
    "c"
   ]
  },
  {
   "cell_type": "code",
   "execution_count": 30,
   "id": "637a416d-d525-4f70-8160-e08fdc0283cc",
   "metadata": {},
   "outputs": [
    {
     "data": {
      "text/plain": [
       "(1, 2, 3, 'ajay-sir', True, (6+7j))"
      ]
     },
     "execution_count": 30,
     "metadata": {},
     "output_type": "execute_result"
    }
   ],
   "source": [
    "d"
   ]
  },
  {
   "cell_type": "code",
   "execution_count": 31,
   "id": "b1049ba9-cd1f-472b-8c2e-c0345e094594",
   "metadata": {},
   "outputs": [
    {
     "data": {
      "text/plain": [
       "3"
      ]
     },
     "execution_count": 31,
     "metadata": {},
     "output_type": "execute_result"
    }
   ],
   "source": [
    "# both in tuple and list we can access the elements by means of indexing\n",
    "\n",
    "a=[1,2,3,4]\n",
    "c=(1,2,3,4)\n",
    "a[2]\n",
    "c[2]"
   ]
  },
  {
   "cell_type": "code",
   "execution_count": null,
   "id": "47a9e8a5-fa07-43fa-9705-51086fbb3851",
   "metadata": {},
   "outputs": [],
   "source": []
  },
  {
   "cell_type": "code",
   "execution_count": null,
   "id": "6e53fc57-f2d2-4a9f-92c7-04ef7147230d",
   "metadata": {},
   "outputs": [],
   "source": []
  },
  {
   "cell_type": "markdown",
   "id": "f3f05cc4-a46c-47aa-b10c-31798f6cf37f",
   "metadata": {},
   "source": [
    " Describe the key features of sets and provide examples of their use"
   ]
  },
  {
   "cell_type": "code",
   "execution_count": 32,
   "id": "0c47e8eb-4566-4442-b9da-55b6b99bbe8b",
   "metadata": {},
   "outputs": [],
   "source": [
    "#sets are unorderd collection of elements\n",
    "# gives only originals r4emoves the duplicates\n",
    "\n",
    "''' for example if we have to buy something if one thing occurs two times we have to pay extra money'''\n",
    "a={'mango','apple','mango','banana'}"
   ]
  },
  {
   "cell_type": "code",
   "execution_count": 33,
   "id": "c0c9851a-a555-4276-ab78-18369f51098a",
   "metadata": {},
   "outputs": [
    {
     "data": {
      "text/plain": [
       "{'apple', 'banana', 'mango'}"
      ]
     },
     "execution_count": 33,
     "metadata": {},
     "output_type": "execute_result"
    }
   ],
   "source": [
    "a"
   ]
  },
  {
   "cell_type": "code",
   "execution_count": 34,
   "id": "eec17286-9378-426d-84a4-5d4624db3b7d",
   "metadata": {},
   "outputs": [],
   "source": [
    "a={1,2,3,'ajay'}"
   ]
  },
  {
   "cell_type": "code",
   "execution_count": 35,
   "id": "2d347f6f-048f-4783-9cdc-5e752a838d50",
   "metadata": {},
   "outputs": [
    {
     "data": {
      "text/plain": [
       "{1, 2, 3, 'ajay'}"
      ]
     },
     "execution_count": 35,
     "metadata": {},
     "output_type": "execute_result"
    }
   ],
   "source": [
    "a"
   ]
  },
  {
   "cell_type": "code",
   "execution_count": 36,
   "id": "5ec1ba0f-50a7-4d62-aa33-5085b092e187",
   "metadata": {},
   "outputs": [
    {
     "ename": "TypeError",
     "evalue": "'set' object does not support item assignment",
     "output_type": "error",
     "traceback": [
      "\u001b[0;31m---------------------------------------------------------------------------\u001b[0m",
      "\u001b[0;31mTypeError\u001b[0m                                 Traceback (most recent call last)",
      "Cell \u001b[0;32mIn[36], line 2\u001b[0m\n\u001b[1;32m      1\u001b[0m \u001b[38;5;66;03m# it soent support slicing as it is an unorderd \u001b[39;00m\n\u001b[0;32m----> 2\u001b[0m \u001b[43ma\u001b[49m\u001b[43m[\u001b[49m\u001b[38;5;241;43m0\u001b[39;49m\u001b[43m]\u001b[49m\u001b[38;5;241m=\u001b[39m\u001b[38;5;241m1\u001b[39m\n",
      "\u001b[0;31mTypeError\u001b[0m: 'set' object does not support item assignment"
     ]
    }
   ],
   "source": [
    "# it soent support slicing as it is an unorderd \n",
    "a[0]=1"
   ]
  },
  {
   "cell_type": "code",
   "execution_count": null,
   "id": "84b389d2-1978-4d5c-8575-8075f75f2708",
   "metadata": {},
   "outputs": [],
   "source": []
  },
  {
   "cell_type": "code",
   "execution_count": null,
   "id": "b5977a7f-6c2e-4133-a6f6-964a1ae10105",
   "metadata": {},
   "outputs": [],
   "source": []
  },
  {
   "cell_type": "raw",
   "id": "a5380bef-acdc-43a0-8fc7-ede0a2c1afc9",
   "metadata": {},
   "source": [
    "Discuss the use cases of tuples and sets in Python programming"
   ]
  },
  {
   "cell_type": "code",
   "execution_count": 37,
   "id": "abe06063-b5f7-47a8-949e-1a02adcec750",
   "metadata": {},
   "outputs": [
    {
     "data": {
      "text/plain": [
       "\" use case of sets in python programming:\\nfor example we need to store the employee id's of employes so here once defined for employee we dont need to repeat that employe or employe id so we use sets to stopre the data\""
      ]
     },
     "execution_count": 37,
     "metadata": {},
     "output_type": "execute_result"
    }
   ],
   "source": [
    "''' usecases of tuple in python programming :\n",
    "for example if in office we have employee-id once defined we can't change it so we use tuple here to store the data'''\n",
    "#or\n",
    "''' for example we need to store adhaar number of employees ,, here obvious oncew the adhaar number is defined we dont want to change it \n",
    "so we use tuyple to storte the data'''\n",
    "\n",
    "\n",
    "\n",
    "''' use case of sets in python programming:\n",
    "for example we need to store the employee id's of employes so here once defined for employee we dont need to repeat that employe or employe id so we use sets to stopre the data'''"
   ]
  },
  {
   "cell_type": "code",
   "execution_count": null,
   "id": "a0a43aad-f526-407a-b36e-296e7fd8b316",
   "metadata": {},
   "outputs": [],
   "source": []
  },
  {
   "cell_type": "code",
   "execution_count": null,
   "id": "40ca06cf-45c3-4792-8620-201d4100f825",
   "metadata": {},
   "outputs": [],
   "source": []
  },
  {
   "cell_type": "code",
   "execution_count": null,
   "id": "a4941071-b559-4f5c-9ec5-8ffe224f563f",
   "metadata": {},
   "outputs": [],
   "source": []
  },
  {
   "cell_type": "raw",
   "id": "2a075cb3-e112-4e48-a7a8-41ef99be263b",
   "metadata": {},
   "source": [
    "Describe how to add, modify, and delete items in a dictionary with examples"
   ]
  },
  {
   "cell_type": "code",
   "execution_count": 38,
   "id": "098f7210-c1fc-40d2-9f5c-5c14629df30f",
   "metadata": {},
   "outputs": [],
   "source": [
    "a={'name':'kamran','class':'5'}"
   ]
  },
  {
   "cell_type": "code",
   "execution_count": 49,
   "id": "cb6d0146-0228-462e-8d3f-ef6d8ebaf430",
   "metadata": {},
   "outputs": [
    {
     "data": {
      "text/plain": [
       "{'name': 'sahil', 'class': '5'}"
      ]
     },
     "execution_count": 49,
     "metadata": {},
     "output_type": "execute_result"
    }
   ],
   "source": [
    "#to modify\n",
    "a['name']='sahil'\n",
    "a"
   ]
  },
  {
   "cell_type": "code",
   "execution_count": 52,
   "id": "11edc514-2e84-4c2e-a1c4-19e66dff5d8d",
   "metadata": {},
   "outputs": [
    {
     "ename": "NameError",
     "evalue": "name 'a' is not defined",
     "output_type": "error",
     "traceback": [
      "\u001b[0;31m---------------------------------------------------------------------------\u001b[0m",
      "\u001b[0;31mNameError\u001b[0m                                 Traceback (most recent call last)",
      "Cell \u001b[0;32mIn[52], line 2\u001b[0m\n\u001b[1;32m      1\u001b[0m \u001b[38;5;66;03m#to delete\u001b[39;00m\n\u001b[0;32m----> 2\u001b[0m \u001b[38;5;28;01mdel\u001b[39;00m a\n\u001b[1;32m      3\u001b[0m a\n",
      "\u001b[0;31mNameError\u001b[0m: name 'a' is not defined"
     ]
    }
   ],
   "source": [
    "#to delete\n",
    "del a\n",
    "a"
   ]
  },
  {
   "cell_type": "code",
   "execution_count": 55,
   "id": "44d0e24d-d438-4614-a4f4-8cff94e54e94",
   "metadata": {},
   "outputs": [
    {
     "data": {
      "text/plain": [
       "{'name': 'kamran', 'surname': 'malik', 'r/o': 'srinagar'}"
      ]
     },
     "execution_count": 55,
     "metadata": {},
     "output_type": "execute_result"
    }
   ],
   "source": [
    "# to add\n",
    "a={'name':'kamran','surname':'malik'}\n",
    "a.update({'r/o':'srinagar'})\n",
    "a"
   ]
  },
  {
   "cell_type": "code",
   "execution_count": null,
   "id": "01839891-14b9-43aa-aa47-abc67b996ac5",
   "metadata": {},
   "outputs": [],
   "source": []
  },
  {
   "cell_type": "code",
   "execution_count": null,
   "id": "c2dbd15f-1076-46e1-81e9-0f570b67ff86",
   "metadata": {},
   "outputs": [],
   "source": []
  },
  {
   "cell_type": "raw",
   "id": "444e337e-4233-4b34-af46-f8433d4ca01f",
   "metadata": {},
   "source": [
    " Discuss the importance of dictionary keys being immutable and provide example"
   ]
  },
  {
   "cell_type": "code",
   "execution_count": null,
   "id": "2990fc41-a2f7-42c8-89a5-6f7864968a74",
   "metadata": {},
   "outputs": [],
   "source": [
    "''' as the values are being accessedby the keys so the keys sholud me immutable so that we will have only one key vale not \n",
    "two keys with same values'''\n",
    "''' for example if we need to store the phone numbers we will save the phone number of father by key name father\n",
    "and value name his phone number we will not save the brothers phone number with fathers key name it willl be difficult\n",
    "to access and also it will be very hectic to update the numbr'''\n",
    "a={dad}"
   ]
  }
 ],
 "metadata": {
  "kernelspec": {
   "display_name": "Python 3 (ipykernel)",
   "language": "python",
   "name": "python3"
  },
  "language_info": {
   "codemirror_mode": {
    "name": "ipython",
    "version": 3
   },
   "file_extension": ".py",
   "mimetype": "text/x-python",
   "name": "python",
   "nbconvert_exporter": "python",
   "pygments_lexer": "ipython3",
   "version": "3.10.8"
  }
 },
 "nbformat": 4,
 "nbformat_minor": 5
}
